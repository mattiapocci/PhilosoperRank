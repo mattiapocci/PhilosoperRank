{
  "nbformat": 4,
  "nbformat_minor": 0,
  "metadata": {
    "colab": {
      "name": "scrapingWikiList.ipynb",
      "provenance": [],
      "collapsed_sections": [],
      "include_colab_link": true
    },
    "kernelspec": {
      "name": "python3",
      "display_name": "Python 3"
    },
    "accelerator": "GPU"
  },
  "cells": [
    {
      "cell_type": "markdown",
      "metadata": {
        "id": "view-in-github",
        "colab_type": "text"
      },
      "source": [
        "<a href=\"https://colab.research.google.com/github/mattiapocci/PhilosopherRank/blob/master/scrapingWikiList.ipynb\" target=\"_parent\"><img src=\"https://colab.research.google.com/assets/colab-badge.svg\" alt=\"Open In Colab\"/></a>"
      ]
    },
    {
      "cell_type": "code",
      "metadata": {
        "id": "SANA3JojoGGn",
        "colab_type": "code",
        "colab": {}
      },
      "source": [
        "import urllib.request\n",
        "import requests\n",
        "import json\n",
        "from bs4 import BeautifulSoup as bs\n",
        "import pandas as pd\n",
        "print('imports successful')\n",
        "starturl = 'https://en.wikipedia.org'"
      ],
      "execution_count": 0,
      "outputs": []
    },
    {
      "cell_type": "markdown",
      "metadata": {
        "id": "gvdE503SK3Th",
        "colab_type": "text"
      },
      "source": [
        "# ***Clustering***"
      ]
    },
    {
      "cell_type": "code",
      "metadata": {
        "id": "3jeZ3d8VLC3d",
        "colab_type": "code",
        "colab": {}
      },
      "source": [
        "import pprint\n",
        "url = 'https://en.wikipedia.org/wiki/List_of_philosophies'\n",
        "\n",
        "page = urllib.request.urlopen(url)\n",
        "soup = bs(page, \"lxml\")\n",
        "\n",
        "\n",
        "\n",
        "def page_scrape(address):\n",
        "    page = urllib.request.urlopen(address)\n",
        "    soup = bs(page, \"lxml\")\n",
        "    a_list = soup.find_all('a')\n",
        "    res = []\n",
        "    for a in a_list:\n",
        "        if a.get('title') is not None:\n",
        "            res.append(a.get('title'))\n",
        "    return res\n",
        "\n",
        "raw_clusters = {}\n",
        "p_list = soup.find_all('p')\n",
        "\n",
        "for p in p_list:\n",
        "    a_list = p.find_all('a')\n",
        "    #print(a_list[0])\n",
        "    #for every philosophy get a list of titles\n",
        "    for a in a_list:\n",
        "        try:\n",
        "            current_url = starturl + a.get('href')\n",
        "            raw_clusters[a.get('title')] = page_scrape(current_url)\n",
        "            #construct a list and return \n",
        "            print('Built element with title ' + a.get('title'))\n",
        "        except:\n",
        "            print(a)\n",
        "            print('anchor has no title')\n",
        "\n",
        "pprint.pprint(raw_clusters)\n",
        "\n",
        "#pprint.pprint(soup)"
      ],
      "execution_count": 0,
      "outputs": []
    },
    {
      "cell_type": "code",
      "metadata": {
        "id": "vBIRDvG0Wbu-",
        "colab_type": "code",
        "colab": {}
      },
      "source": [
        "from google.colab import files\n",
        "with open('raw_clusters.json', 'w', encoding=\"utf-8\") as fp:\n",
        "    json.dump(raw_clusters, fp, indent=4)\n",
        "files.download('raw_clusters.json')"
      ],
      "execution_count": 0,
      "outputs": []
    },
    {
      "cell_type": "markdown",
      "metadata": {
        "id": "enEqlgS9KvXy",
        "colab_type": "text"
      },
      "source": [
        "# ***Biography Table***"
      ]
    },
    {
      "cell_type": "code",
      "metadata": {
        "id": "yxcDBxQPZvZD",
        "colab_type": "code",
        "colab": {}
      },
      "source": [
        "import pprint\n",
        "def bio_table(url):\n",
        "    page = urllib.request.urlopen(url)\n",
        "    soup = bs(page, \"lxml\")\n",
        "    table = soup.find('table', class_='infobox biography vcard')\n",
        "    print(len(table.find_all('ul', class_='NavContent')))\n",
        "    try:\n",
        "        influencers = table.find_all('ul', class_='NavContent')[0]\n",
        "    except:\n",
        "        influencers = []\n",
        "    try:\n",
        "        influenced = table.find_all('ul', class_='NavContent')[1]\n",
        "    except:\n",
        "        influenced = []\n",
        "    print(influenced)\n",
        "    final_influencers = []\n",
        "    final_influenced = []\n",
        "    if influencers != []:\n",
        "        for a in influencers.find_all('a'):\n",
        "            try:\n",
        "                final_influencers.append(a.get('title'))\n",
        "            except:\n",
        "                pass\n",
        "    if influenced != []:\n",
        "        for a in influenced.find_all('a'):\n",
        "            try:\n",
        "                final_influenced.append(a.get('title'))\n",
        "            except:\n",
        "                pass\n",
        "    '''\n",
        "    exceptional_row_count = 0\n",
        "    for tr in table.find_all('tr'):\n",
        "        if tr.find('th'):\n",
        "            result[tr.find('th').text] = tr.find('td').text\n",
        "        else:\n",
        "            # the first row Logos fall here\n",
        "            exceptional_row_count += 1\n",
        "    if exceptional_row_count > 1:\n",
        "        print ('WARNING ExceptionalRow>1: ' + table)\n",
        "    '''\n",
        "    #if final_influencers == [] or final_influenced ==[]\n",
        "\n",
        "    return final_influencers,final_influenced\n",
        "\n",
        "\n",
        "pprint.pprint(bio_table('https://en.wikipedia.org/wiki/Umberto_Eco'))"
      ],
      "execution_count": 0,
      "outputs": []
    },
    {
      "cell_type": "markdown",
      "metadata": {
        "id": "AQKI3_01os1b",
        "colab_type": "text"
      },
      "source": [
        "Philsophers from A to C"
      ]
    },
    {
      "cell_type": "code",
      "metadata": {
        "id": "DBDTty_0oiKz",
        "colab_type": "code",
        "colab": {}
      },
      "source": [
        "url = \"https://en.wikipedia.org/wiki/List_of_philosophers_(A%E2%80%93C)\"\n",
        "page = urllib.request.urlopen(url)\n",
        "soup = bs(page, \"lxml\")\n",
        "#print(soup.prettify())\n",
        "#print(soup.title.string)"
      ],
      "execution_count": 0,
      "outputs": []
    },
    {
      "cell_type": "code",
      "metadata": {
        "id": "JMvcQNDLrJEP",
        "colab_type": "code",
        "colab": {}
      },
      "source": [
        "\n",
        "phil=[]\n",
        "href=[]\n",
        "raw=[]\n",
        "influencers=[]\n",
        "influenced=[]\n",
        "for ultag in soup.find_all('ul'):\n",
        "  for litag in ultag.find_all('li'):\n",
        "    try:\n",
        "      print('HREF: ' + litag.a.get('href'))\n",
        "      wikiurl = starturl + litag.a.get('href')\n",
        "      print(wikiurl)\n",
        "      href.append(wikiurl)\n",
        "    except:\n",
        "      print('No HREF')\n",
        "      href.append('NONE')\n",
        "    try:\n",
        "        response = requests.get(\n",
        "            'https://en.wikipedia.org/w/api.php',\n",
        "            params={\n",
        "                'action': 'query',\n",
        "                'format': 'json',\n",
        "                'titles': litag.a.get('title'),\n",
        "                'prop': 'extracts',\n",
        "                'explaintext': True,\n",
        "                'exlimit': 'max',\n",
        "            }\n",
        "        ).json()\n",
        "        raw.append(response)\n",
        "    except:\n",
        "        raw.append('NONE')\n",
        "    try:\n",
        "        tempinfluencers, tempinfluenced = bio_table(wikiurl)\n",
        "        influencers.append(tempinfluencers)\n",
        "        influenced.append(tempinfluenced)\n",
        "    except:\n",
        "        influencers.append([])\n",
        "        influenced.append([])\n",
        "    phil.append(litag.text)\n",
        "    print(litag.text)\n",
        "\n",
        "\n"
      ],
      "execution_count": 0,
      "outputs": []
    },
    {
      "cell_type": "markdown",
      "metadata": {
        "id": "ycnSa6p0yUbY",
        "colab_type": "text"
      },
      "source": [
        "Philosopers from D to H"
      ]
    },
    {
      "cell_type": "code",
      "metadata": {
        "id": "KAVp0U96yeyi",
        "colab_type": "code",
        "colab": {}
      },
      "source": [
        "url = \"https://en.wikipedia.org/wiki/List_of_philosophers_(D%E2%80%93H)\"\n",
        "page = urllib.request.urlopen(url)\n",
        "soup = bs(page, \"lxml\")\n",
        "#print(soup.prettify())\n",
        "#print(soup.title.string)"
      ],
      "execution_count": 0,
      "outputs": []
    },
    {
      "cell_type": "code",
      "metadata": {
        "id": "9SqP5F-TzTVp",
        "colab_type": "code",
        "colab": {}
      },
      "source": [
        "for ultag in soup.find_all('ul'):\n",
        "  for litag in ultag.find_all('li'):\n",
        "    try:\n",
        "      print('HREF: ' + litag.a.get('href'))\n",
        "      wikiurl = starturl + litag.a.get('href')\n",
        "      print(wikiurl)\n",
        "      href.append(wikiurl)\n",
        "    except:\n",
        "      print('No HREF')\n",
        "      href.append('NONE')\n",
        "    try:\n",
        "        response = requests.get(\n",
        "            'https://en.wikipedia.org/w/api.php',\n",
        "            params={\n",
        "                'action': 'query',\n",
        "                'format': 'json',\n",
        "                'titles': litag.a.get('title'),\n",
        "                'prop': 'extracts',\n",
        "                'explaintext': True,\n",
        "                'exlimit': 'max',\n",
        "            }\n",
        "        ).json()\n",
        "        raw.append(response)\n",
        "    except:\n",
        "        raw.append('NONE')\n",
        "    try:\n",
        "        tempinfluencers, tempinfluenced = bio_table(wikiurl)\n",
        "        influencers.append(tempinfluencers)\n",
        "        influenced.append(tempinfluenced)\n",
        "    except:\n",
        "        influencers.append([])\n",
        "        influenced.append([])\n",
        "    phil.append(litag.text)\n",
        "    print(litag.text)"
      ],
      "execution_count": 0,
      "outputs": []
    },
    {
      "cell_type": "markdown",
      "metadata": {
        "id": "kOC-vWK2y-pf",
        "colab_type": "text"
      },
      "source": [
        "Philosophers from I to Q"
      ]
    },
    {
      "cell_type": "code",
      "metadata": {
        "id": "fFpmjM3nzKYd",
        "colab_type": "code",
        "colab": {}
      },
      "source": [
        "url = \"https://en.wikipedia.org/wiki/List_of_philosophers_(I%E2%80%93Q)\"\n",
        "page = urllib.request.urlopen(url)\n",
        "soup = bs(page, \"lxml\")"
      ],
      "execution_count": 0,
      "outputs": []
    },
    {
      "cell_type": "code",
      "metadata": {
        "id": "7H9w8aQIzV4X",
        "colab_type": "code",
        "colab": {}
      },
      "source": [
        "for ultag in soup.find_all('ul'):\n",
        "  for litag in ultag.find_all('li'):\n",
        "    try:\n",
        "      print('HREF: ' + litag.a.get('href'))\n",
        "      wikiurl = starturl + litag.a.get('href')\n",
        "      print(wikiurl)\n",
        "      href.append(wikiurl)\n",
        "    except:\n",
        "      print('No HREF')\n",
        "      href.append('NONE')\n",
        "    try:\n",
        "        response = requests.get(\n",
        "            'https://en.wikipedia.org/w/api.php',\n",
        "            params={\n",
        "                'action': 'query',\n",
        "                'format': 'json',\n",
        "                'titles': litag.a.get('title'),\n",
        "                'prop': 'extracts',\n",
        "                'explaintext': True,\n",
        "                'exlimit': 'max',\n",
        "            }\n",
        "        ).json()\n",
        "        raw.append(response)\n",
        "    except:\n",
        "        raw.append('NONE')\n",
        "    try:\n",
        "        tempinfluencers, tempinfluenced = bio_table(wikiurl)\n",
        "        influencers.append(tempinfluencers)\n",
        "        influenced.append(tempinfluenced)\n",
        "    except:\n",
        "        influencers.append([])\n",
        "        influenced.append([])\n",
        "    phil.append(litag.text)\n",
        "    print(litag.text)"
      ],
      "execution_count": 0,
      "outputs": []
    },
    {
      "cell_type": "markdown",
      "metadata": {
        "id": "DXDWcJurzE2o",
        "colab_type": "text"
      },
      "source": [
        "Philosophers from R to Z"
      ]
    },
    {
      "cell_type": "code",
      "metadata": {
        "id": "GVxoni4ZzJuK",
        "colab_type": "code",
        "colab": {}
      },
      "source": [
        "url = \"https://en.wikipedia.org/wiki/List_of_philosophers_(R%E2%80%93Z)\"\n",
        "page = urllib.request.urlopen(url)\n",
        "soup = bs(page, \"lxml\")"
      ],
      "execution_count": 0,
      "outputs": []
    },
    {
      "cell_type": "code",
      "metadata": {
        "id": "s1O6VdJ0zXcF",
        "colab_type": "code",
        "colab": {}
      },
      "source": [
        "for ultag in soup.find_all('ul'):\n",
        "  for litag in ultag.find_all('li'):\n",
        "    try:\n",
        "      print('HREF: ' + litag.a.get('href'))\n",
        "      wikiurl = starturl + litag.a.get('href')\n",
        "      print(wikiurl)\n",
        "      href.append(wikiurl)\n",
        "    except:\n",
        "      print('No HREF')\n",
        "      href.append('NONE')\n",
        "    try:\n",
        "        response = requests.get(\n",
        "            'https://en.wikipedia.org/w/api.php',\n",
        "            params={\n",
        "                'action': 'query',\n",
        "                'format': 'json',\n",
        "                'titles': litag.a.get('title'),\n",
        "                'prop': 'extracts',\n",
        "                'explaintext': True,\n",
        "                'exlimit': 'max',\n",
        "            }\n",
        "        ).json()\n",
        "        raw.append(response)\n",
        "    except:\n",
        "        raw.append('NONE')\n",
        "    try:\n",
        "        tempinfluencers, tempinfluenced = bio_table(wikiurl)\n",
        "        influencers.append(tempinfluencers)\n",
        "        influenced.append(tempinfluenced)\n",
        "    except:\n",
        "        influencers.append([])\n",
        "        influenced.append([])\n",
        "    phil.append(litag.text)\n",
        "    print(litag.text)"
      ],
      "execution_count": 0,
      "outputs": []
    },
    {
      "cell_type": "code",
      "metadata": {
        "id": "gfpv34Al1xuZ",
        "colab_type": "code",
        "colab": {}
      },
      "source": [
        "df = pd.DataFrame(phil,columns=['Philosopher'])\n",
        "df['href']=href\n",
        "df['raw']=raw\n",
        "df['influencers']=influencers\n",
        "df['influenced']=influenced\n",
        "df\n",
        "df['raw'].sample(n=3)\n",
        "#with pd.option_context('display.max_rows', None, 'display.max_columns', None):  # more options can be specified also\n",
        "#    print(df)"
      ],
      "execution_count": 0,
      "outputs": []
    },
    {
      "cell_type": "code",
      "metadata": {
        "id": "49PSjSEF2nsj",
        "colab_type": "code",
        "colab": {}
      },
      "source": [
        "result = df.to_json(orient='index')\n",
        "from google.colab import files\n",
        "open('result.json', 'w').write(result)\n",
        "files.download('result.json')"
      ],
      "execution_count": 0,
      "outputs": []
    },
    {
      "cell_type": "markdown",
      "metadata": {
        "id": "OSfsUBI96Dsm",
        "colab_type": "text"
      },
      "source": [
        "Transform the result"
      ]
    },
    {
      "cell_type": "code",
      "metadata": {
        "id": "ubabtB316J3_",
        "colab_type": "code",
        "colab": {}
      },
      "source": [
        "with open('result.json', 'r') as f:\n",
        "  contents = json.loads(f.read())\n",
        "print(contents['67']['raw']['query']['pages'])\n",
        "print(contents['67']['raw'])\n",
        "json_list = []\n",
        "for content in contents:\n",
        "  json_object = {}\n",
        "  json_object['table'] = {}\n",
        "  try:\n",
        "    json_object['pageid'] = list(contents[content]['raw']['query']['pages'].keys())[0]\n",
        "    json_object['philosopher'] = contents[content]['raw']['query']['pages'][json_object[\"pageid\"]]['title']\n",
        "    json_object['article'] = contents[content]['raw']['query']['pages'][json_object['pageid']]['extract']\n",
        "    json_object['table']['influencers'] = contents[content]['influencers']\n",
        "    json_object['table']['influenced'] = contents[content]['influenced']\n",
        "    json_list.append(json_object)\n",
        "  except:\n",
        "    print('No page, scajella')\n",
        "print(json_list[67])\n",
        "with open('final_result.json', 'w', encoding='utf-8') as f:\n",
        "    json.dump(json_list, f, ensure_ascii=False, indent=4)\n",
        "files.download('final_result.json')"
      ],
      "execution_count": 0,
      "outputs": []
    }
  ]
}