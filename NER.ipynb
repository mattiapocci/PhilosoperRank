{
  "nbformat": 4,
  "nbformat_minor": 0,
  "metadata": {
    "colab": {
      "name": "NER.ipynb",
      "provenance": [],
      "collapsed_sections": [],
      "include_colab_link": true
    },
    "kernelspec": {
      "name": "python3",
      "display_name": "Python 3"
    }
  },
  "cells": [
    {
      "cell_type": "markdown",
      "metadata": {
        "id": "view-in-github",
        "colab_type": "text"
      },
      "source": [
        "<a href=\"https://colab.research.google.com/github/mattiapocci/PhilosoperRank/blob/master/NER.ipynb\" target=\"_parent\"><img src=\"https://colab.research.google.com/assets/colab-badge.svg\" alt=\"Open In Colab\"/></a>"
      ]
    },
    {
      "cell_type": "markdown",
      "metadata": {
        "id": "W0EkabEj_ah5",
        "colab_type": "text"
      },
      "source": [
        "#***Imports and Drive Mount***"
      ]
    },
    {
      "cell_type": "code",
      "metadata": {
        "id": "dcg7xL1K7yyZ",
        "colab_type": "code",
        "colab": {
          "base_uri": "https://localhost:8080/",
          "height": 122
        },
        "outputId": "f41c49b6-4c5b-457a-8255-dfac4a4f9e84"
      },
      "source": [
        "\n",
        "!pip3 install -U spacy\n",
        "!python3 -m spacy download en_core_web_sm\n",
        "\n",
        "import sys\n",
        "import time\n",
        "import os\n",
        "import numpy as np\n",
        "import random\n",
        "import json\n",
        "import spacy\n",
        "\n",
        "\n",
        "from google.colab import drive\n",
        "\n",
        "drive.mount('/content/drive')\n"
      ],
      "execution_count": 1,
      "outputs": [
        {
          "output_type": "stream",
          "text": [
            "Go to this URL in a browser: https://accounts.google.com/o/oauth2/auth?client_id=947318989803-6bn6qk8qdgf4n4g3pfee6491hc0brc4i.apps.googleusercontent.com&redirect_uri=urn%3aietf%3awg%3aoauth%3a2.0%3aoob&response_type=code&scope=email%20https%3a%2f%2fwww.googleapis.com%2fauth%2fdocs.test%20https%3a%2f%2fwww.googleapis.com%2fauth%2fdrive%20https%3a%2f%2fwww.googleapis.com%2fauth%2fdrive.photos.readonly%20https%3a%2f%2fwww.googleapis.com%2fauth%2fpeopleapi.readonly\n",
            "\n",
            "Enter your authorization code:\n",
            "··········\n",
            "Mounted at /content/drive\n"
          ],
          "name": "stdout"
        }
      ]
    },
    {
      "cell_type": "markdown",
      "metadata": {
        "id": "LWFl--Pruu-j",
        "colab_type": "text"
      },
      "source": [
        "#***Import JSON articles***\n"
      ]
    },
    {
      "cell_type": "markdown",
      "metadata": {
        "id": "v0rdQEvwyxqa",
        "colab_type": "text"
      },
      "source": [
        "import Temporary jsonlist creation"
      ]
    },
    {
      "cell_type": "code",
      "metadata": {
        "id": "LDR8TdRiyuvn",
        "colab_type": "code",
        "colab": {}
      },
      "source": [
        "#open the file\n",
        "with open('/content/drive/My Drive/folder/result.json') as f:\n",
        "  jsonlist = json.load(f)\n"
      ],
      "execution_count": 0,
      "outputs": []
    },
    {
      "cell_type": "markdown",
      "metadata": {
        "id": "y2LAGk9n46KC",
        "colab_type": "text"
      },
      "source": [
        ""
      ]
    },
    {
      "cell_type": "code",
      "metadata": {
        "id": "cwU02BGMvYMX",
        "colab_type": "code",
        "colab": {
          "base_uri": "https://localhost:8080/",
          "height": 782
        },
        "outputId": "50bd4b2c-64d9-4f0a-a6fb-c8277d41462b"
      },
      "source": [
        "\"\"\"\n",
        "\n",
        "jsonlist element structure\n",
        "\n",
        "{\n",
        "    \"pageid\": id,\n",
        "    \"philosopher\": \"name\",\n",
        "    \"article\": \"plaintext_article\"\n",
        "}\n",
        "\"\"\"\n",
        "\n",
        "\"\"\"\n",
        "1.X cite(s|d) Y1, Y2, …, Yn as (an) influence(s)\n",
        "2. X was influenced by Y1, Y2, …, Yn\n",
        "3. Y has been cited as an influence by X1, X2, …, Xn\n",
        "4. Y influence on X1, X2, …, Xn …\n",
        "5. Y1, Y2, …, Yn influenced hi(m|s) …\n",
        "\"\"\"\n",
        "\n",
        "nlp = spacy.load(\"en_core_web_sm\")\n",
        "doc1 = nlp(\"Mark was influenced by Jhon\")\n",
        "doc2 = nlp(\"Jhon influenced Mark\")\n",
        "doc3 = nlp(\"Mark was an influence of Jhon and Albert\")\n",
        "doc4 = nlp(\"Jhon influenced him\")\n",
        "print(\"------\")\n",
        "print(\"1 Mark was influenced by Jhon\")\n",
        "print(\"CHUNKS\")\n",
        "for chunk in doc1.noun_chunks:\n",
        "    print(chunk.text, chunk.root.text, chunk.root.dep_, \n",
        "            chunk.root.head.text)\n",
        "print(\"TREE\")\n",
        "for token in doc1:\n",
        "    print(token.text, token.dep_, token.head.text, token.head.pos_,\n",
        "            [child for child in token.children])\n",
        "    \n",
        "print(\"------\")\n",
        "print(\"2 Jhon influenced Mark\")\n",
        "print(\"CHUNKS\")\n",
        "\n",
        "for chunk in doc2.noun_chunks:\n",
        "    print(chunk.text, chunk.root.text, chunk.root.dep_, \n",
        "            chunk.root.head.text)\n",
        "print(\"TREE\")\n",
        "for token in doc2:\n",
        "    print(token.text, token.dep_, token.head.text, token.head.pos_,\n",
        "            [child for child in token.children])\n",
        "    \n",
        "print(\"------\")\n",
        "print(\"3 Mark was an influence of Jhon and Albert\")\n",
        "print(\"CHUNKS\")\n",
        "    \n",
        "for chunk in doc3.noun_chunks:\n",
        "    print(chunk.text, chunk.root.text, chunk.root.dep_, \n",
        "            chunk.root.head.text)\n",
        "print(\"TREE\")\n",
        "for token in doc3:\n",
        "    print(token.text, token.dep_, token.head.text, token.head.pos_,\n",
        "            [child for child in token.children])\n",
        "    \n",
        "print(\"------\")\n",
        "print(\"4 Jhon influenced him\")\n",
        "print(\"CHUNKS\")\n",
        "    \n",
        "for chunk in doc4.noun_chunks:\n",
        "    print(chunk.text, chunk.root.text, chunk.root.dep_, \n",
        "            chunk.root.head.text)\n",
        "print(\"TREE\")\n",
        "for token in doc4:\n",
        "    print(token.text, token.dep_, token.head.text, token.head.pos_,\n",
        "            [child for child in token.children])\n",
        "\n",
        "\n",
        "    \n",
        "#print(jsonlist[0][\"article\"])\n",
        "#doc = nlp(jsonlist[0][\"article\"])"
      ],
      "execution_count": 46,
      "outputs": [
        {
          "output_type": "stream",
          "text": [
            "------\n",
            "1 Mark was influenced by Jhon\n",
            "CHUNKS\n",
            "Mark Mark nsubjpass influenced\n",
            "Jhon Jhon pobj by\n",
            "TREE\n",
            "Mark nsubjpass influenced VERB []\n",
            "was auxpass influenced VERB []\n",
            "influenced ROOT influenced VERB [Mark, was, by]\n",
            "by agent influenced VERB [Jhon]\n",
            "Jhon pobj by ADP []\n",
            "------\n",
            "2 Jhon influenced Mark\n",
            "CHUNKS\n",
            "Jhon Jhon nsubj influenced\n",
            "Mark Mark dobj influenced\n",
            "TREE\n",
            "Jhon nsubj influenced VERB []\n",
            "influenced ROOT influenced VERB [Jhon, Mark]\n",
            "Mark dobj influenced VERB []\n",
            "------\n",
            "3 Mark was an influence of Jhon and Albert\n",
            "CHUNKS\n",
            "Mark Mark nsubj was\n",
            "an influence influence attr was\n",
            "Jhon Jhon pobj of\n",
            "Albert Albert conj Jhon\n",
            "TREE\n",
            "Mark nsubj was AUX []\n",
            "was ROOT was AUX [Mark, influence]\n",
            "an det influence NOUN []\n",
            "influence attr was AUX [an, of]\n",
            "of prep influence NOUN [Jhon]\n",
            "Jhon pobj of ADP [and, Albert]\n",
            "and cc Jhon PROPN []\n",
            "Albert conj Jhon PROPN []\n",
            "------\n",
            "4 Jhon influenced him\n",
            "CHUNKS\n",
            "Jhon Jhon nsubj influenced\n",
            "him him dobj influenced\n",
            "TREE\n",
            "Jhon nsubj influenced VERB []\n",
            "influenced ROOT influenced VERB [Jhon, him]\n",
            "him dobj influenced VERB []\n"
          ],
          "name": "stdout"
        }
      ]
    }
  ]
}