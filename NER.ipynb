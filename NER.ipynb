{
  "nbformat": 4,
  "nbformat_minor": 0,
  "metadata": {
    "colab": {
      "name": "NER.ipynb",
      "provenance": [],
      "collapsed_sections": [],
      "include_colab_link": true
    },
    "kernelspec": {
      "name": "python3",
      "display_name": "Python 3"
    }
  },
  "cells": [
    {
      "cell_type": "markdown",
      "metadata": {
        "id": "view-in-github",
        "colab_type": "text"
      },
      "source": [
        "<a href=\"https://colab.research.google.com/github/mattiapocci/PhilosoperRank/blob/master/NER.ipynb\" target=\"_parent\"><img src=\"https://colab.research.google.com/assets/colab-badge.svg\" alt=\"Open In Colab\"/></a>"
      ]
    },
    {
      "cell_type": "markdown",
      "metadata": {
        "id": "W0EkabEj_ah5",
        "colab_type": "text"
      },
      "source": [
        "#***Imports and Drive Mount***"
      ]
    },
    {
      "cell_type": "code",
      "metadata": {
        "id": "dcg7xL1K7yyZ",
        "colab_type": "code",
        "outputId": "4f6ecb4a-23d1-43c8-e4b1-3127907d24eb",
        "colab": {
          "base_uri": "https://localhost:8080/",
          "height": 34
        }
      },
      "source": [
        "\n",
        "#!pip3 install -U spacy[cuda92]\n",
        "#!python3 -m spacy download en_core_web_lg\n",
        "\n",
        "import sys\n",
        "import time\n",
        "import os\n",
        "import numpy as np\n",
        "import random\n",
        "import json\n",
        "import spacy\n",
        "from spacy import displacy\n",
        "\n",
        "nlp = spacy.load(\"en_core_web_sm\")\n",
        "spacy.prefer_gpu()\n",
        "\n",
        "from google.colab import drive\n",
        "\n",
        "drive.mount('/content/drive')\n"
      ],
      "execution_count": 10,
      "outputs": [
        {
          "output_type": "stream",
          "text": [
            "Drive already mounted at /content/drive; to attempt to forcibly remount, call drive.mount(\"/content/drive\", force_remount=True).\n"
          ],
          "name": "stdout"
        }
      ]
    },
    {
      "cell_type": "markdown",
      "metadata": {
        "id": "LWFl--Pruu-j",
        "colab_type": "text"
      },
      "source": [
        "#***Import JSON articles***\n"
      ]
    },
    {
      "cell_type": "code",
      "metadata": {
        "id": "LDR8TdRiyuvn",
        "colab_type": "code",
        "colab": {
          "base_uri": "https://localhost:8080/",
          "height": 1000
        },
        "outputId": "83b2dde0-5303-4627-9f7a-a76436203cf6"
      },
      "source": [
        "\"\"\"\n",
        "{\n",
        "    \"philosopher\": \"name\",\n",
        "    \"article\": \"plaintext_article\",\n",
        "    \"pageid\": \"id\"\n",
        "}\n",
        "\"\"\"\n",
        "#open the file\n",
        "with open('/content/drive/My Drive/folder/result.json') as f:\n",
        "  jsonlist = json.load(f)\n",
        "print(jsonlist[0][\"article\"])"
      ],
      "execution_count": 23,
      "outputs": [
        {
          "output_type": "stream",
          "text": [
            "Leo the Hebrew, pen name of Judá Abravanel (otherwise known as: in Latin, Leo Hebraeus; in Portuguese, Leão Hebreu; in Italian, Leone Ebreo; in Spanish, León Hebreo; in French, León l'Hebreu and in Hebrew, יְהוּדָה בֶּן יִצְחָק אַבְּרַבַנְאֵל [Yehuda ben Yitzhak Abravanel]) (c. 1460 Lisbon – c. 1530 ? Naples?), was a Portuguese Jewish philosopher, physician and poet. His work Dialogues of Love was one of the most important philosophical works of his time.\n",
            "\n",
            "\n",
            "== Biography ==\n",
            "The Abravanel (or Abrabanel) family was extraordinarily prominent among Jewish families in the Middle Ages, active in public service in the court of Castile. Judah (or Leon, as he is known in Spanish) was the son of Isaac ben Judah Abravanel, (meaning Isaac “son of Judah” Abravenel) who, according to Soria was “the last great commentator of the Bible of Medieval Jewry” (12). Don Isaac was a statesman, financier, and a defender of the Jewish faith, who was also born in Lisbon in 1437 and spent most of his life in Portugal, eventually becoming a financial advisor to King Afonso V. However, in 1481 King Afonso V died and Don Isaac was suspected of conspiring to enthrone the Duke of Braganza, whom he had befriended earlier, over the son of Afonso, João II. Consequently, he had to flee without his family from Portugal to Seville, then Castile, finally settling in Toledo. Don Isaac eventually took refuge from his financial and political dealings in his other love—literature—while living with his family, with whom he was later reunited in Toledo.\n",
            "Spain had recently seen the marriage of Isabel de Castilla and Fernando de Aragón, the Catholic Monarchs. Under their rule began the centralization of power in Spain, then fragmented by individual governance of its many regions. The monarchs desired to conquer the kingdom of Granada, which at that time was Muslim. Don Isaac Abravanel saw this as an opportunity and became a financier at the court. His son, Judah, joined him in service to the Catholic Monarchs in 1484 as personal doctor to the royal family.\n",
            "The year 1492 brought a turbulent change to the Abravanel family and to all Jews in Spain, as Isabella and Ferdinand ordered the forced conversion or expulsion of all Jews in Spain. Don Isaac, in a desperate plea, threw himself at the feet of the Catholic Monarchs and begged them to revoke their decree, but to no avail. He made plans to move his family to Naples, Italy. To no avail he bribed King Ferdinand and even threatened Queen Isabella that the Jews were the eternal people and therefore could not be destroyed. A plot was hatched to kidnap Judah's son as an attempt to persuade the Abravanel family to convert to Christianity and, ultimately, to remain in the service of the Catholic Monarchs. In an attempt to circumvent the plot, Judah sent his son to Portugal with a nurse, but by order of the king, the son was seized and baptized. This occurrence was a devastating insult to Judah and to his family, and was a source of bitterness throughout Judah's life and the topic of his writings years later.\n",
            "The Abravanel family chose exile over conversion, although it was not an easy choice, considering that there were not many places in Europe that Jews were welcomed and that living in exile required money, and the Jews were not allowed to take much with them. Originally intent on traveling to the Ottoman Empire, Don Isaac and his family settled in Naples. There, he became a financial advisor to the King of Naples, Ferrante, and his son Alfonso. The Abravanel family enjoyed a position of prestige in the court of Naples until 1494 when Charles VIII, king of France, invaded Naples. The Neapolitan royal family then fled to Sicily, accompanied by Don Isaac.\n",
            "Judah, meanwhile, moved to Genoa, where he studied in an Italian humanist milieu and probably wrote the first two of his Dialoghi. There is evidence that he moved from Genoa to Barletta in 1501, where he became a servant of King Frederick of Naples, leaving in 1503 for Venice, where he rejoined his father Dom Isaac. Other sources say that he left Genoa for Naples in 1501 and remained there until 1506. While in Naples, Judah (apparently overlooking the injuries of the past) became the doctor of the Spanish viceroy, Don Gonsalvo of Cordoba, “The Great Captain.”\n",
            "By 1506, the Neapolitan government was defeated, and Spain gained control of southern Italy. Judah left Naples for Venice, where he dedicated himself again to the study of philosophy until 1507. After this time, little is known about Judah's life. His most famous work, Dialoghi d'amore, appears to have been written around 1501-02. In 1535, when his friend Mariano Lenzi discovered the manuscript and had it published in Rome, records indicate he had already died.\n",
            "There are claims that Judah converted to Christianity at the end of his life; however, upon further investigation, these claims appear unfounded. One source states that allusions made to Saint John the Evangelist in the work indicate his Christian beliefs; however, the tendency of Jewish scholars to cite examples from both New Testament and the Classics was common during this time. However, the Venetian press that printed the second and third editions of his Dialoghi in 1541 and 1545 claimed on the first pages of the work that the author had converted to Christianity: “Dialoghi di Amore composti per Leone Medico, di Natione Hebreo, et di poi fatto Christiano” (Dialogues of Love, composed by Doctor Leon, of Hebrew heritage, and who later became Christian). This statement does not appear in the first edition, nor in later editions. Therefore, this “editorial note” was most likely included to promote the work and to persuade those who harbored hostilities against Jews at that time to purchase the book. Further evidence that Judah remained true to his Jewish faith can be found in Dialoghi, where Judah directly addresses his heritage and religion, stating that the book was written “according to Hebrew truth” and addresses “all of us who believe in the holy law of Moses.”\n",
            "\n",
            "\n",
            "== Influences ==\n",
            "Through his travels, Judah was well-acquainted with many Italian humanists and with the Neapolitan Court. Some say he may have met Giovanni Pico della Mirandola while in Florence and composed for him a discourse on the “Harmony of the Skies.” If so, he also probably associated with Elia de Medigo, teacher of Pico della Mirandola, Yohanan Alemanno (a Jewish writer influenced by the Medici court and mysticism and author of Song of songs), Giovanni Pontano, Mario Equicola and monk Egidio da Viterbo.\n",
            "Leon was surrounded by humanists interested in the topic of Love. The Chancellor of Florence, Marsilio Ficino commented on Plato’s Symposium (1474–75), while Girolamo Benivieni composed his Canzone d’amore (1486), which Pico della Mirandola analyzed soon after. Equicola’s Libro della natura d’amore (1495), Pietro Bembo’s Asolani and Francesco Cattani da Diacceto’s De amore were published while Judah was writing. Abravanel’s Dialoghi is regarded as the finest of these works. Menéndez Pelayo describes it as the most monumental work of Platonic philosophy since Plotinus's Enneads. \n",
            "n\n",
            "Similar to other humanist works, Dialoghi is strongly influenced by Plato and Aristotle. Menéndez Pelayo states that Abravanel employs Platonic ideals in his work, but filtered through his heritage. That is, his Neo-platonism derived from the Hispanic Jewish community, especially the works of Solomon ibn Gabirol and Maimonides. A disciple of these renowned Jewish scholars, Abravanel was also influenced by the Hellenic spirit of the Renaissance. Platonic notions of reaching towards a nearly impossible ideal of beauty, wisdom, and perfection encompass the whole of the work.\n",
            "\n",
            "\n",
            "== Dialoghi d'amore ==\n",
            "\n",
            "The Dialoghi was an exceedingly popular book that enjoyed at least five editions in twenty years. First published in Italian, it was translated into French by Tyard, as well as into Hebrew and into Latin by Sarasin. The Inca Garcilaso de la Vega made one of its three translations into Spanish. Abravanel’s Dialoghi is notably one of the first original philosophical compositions to be published in the vernacular (as opposed to Latin). However, there is some controversy about the language in which it was originally written. According to Roth, although Abravenel had ample time to embrace and employ Italian, “the Dialogue read a little stiffly, [therefore] there is good reason to doubt whether [it] represents the original text” (xii). Also, the Hebrew text that remains was probably a translation, and while Spanish scholars also want to claim he wrote it in the language of the country from which he was exiled, it is possible that he wrote it in Judeo-Spanish, the language of many Spanish Jews and a mixture of Hebrew and Castilian. In the British Library, there is a manuscript (Or. Gaster 10688) of a Spanish translation written with Hebrew characters. This was once thought to have been the author's original, or a copy of it; this is no longer accepted, and the text corresponds very closely to the 1568 Spanish translation. This translation was likely produced in order reclaim Abravanel's Jewish identity and to encourage Spanish-speaking diaspora communities and as an appeal to the Spanish king to remember and reconsider the situation of the Sephardic exiles.In his Dialoghi d'amore, Judah (Leon) Abravanel seeks to define love in philosophical terms. He structures his three dialogues as a conversation between two abstract and mostly undeveloped “characters”: Philo, representing love or appetite, and Sophia, representing science or wisdom, in other words, Philo+Sophia (philosophy).\n",
            "The first dialogue, titled, “Philo and Sophia on Love and Desire” is a contemplation on the distinctions between love and desire, or the types of love and the true nature of love. In Sophia's opinion, love and desire are exclusive; however, Philo argues that love and desire mix in things we find pleasurable, and that desire assumes knowledge of its object and, thus, its existence. Philo defines desire as that which seeks to become united with its object and love as that which, in union with its object, is enjoyed. When love and desire intersect, there are three different qualities of objects: useful, pleasant and good. Useful objects are not loved and desired together. Useful objects are those that are possessed. Meanwhile, love and desire of pleasant objects grows and perishes at the same time; pleasant objects exist because of privation. Good objects, on the other hand, exist when love and desire have no limit.\n",
            "Sophia then asks Philo to distinguish love of God from love of friends. He posits that God is the fountainhead, reason and end of good in the world. However, as humans, we lack the knowledge to love God completely.\n",
            "Happiness is the next topic of discussion, and the two determine that it exists not by gaining or enjoying a possession but rather in wisdom, when virtue is assumed. Wisdom is not omniscience, however, which is noted to be almost unreachable and can be found only in knowing God or communing with the Active Intellect. \n",
            "From there, Sophia asks Philo to clarify knowledge and love of God. Wisdom is born out of the love of God, he explains, and is the source of human happiness. Sophia then asks Philo to give a definition of the love that he feels for her, according to their discussion. He attempts to win her affection by stating that union increases love because of the physical aspect of human love, while injury does not. He adds that love is born of Reason (though it is not subject to it directly, or at least not to its “ordinary” form; rather, “heroic Reason” motivates it to seek the beloved as its object). At this point, Philo tells her that the hour is drawing late and she must rest while “my mind keeps it usual anguished watch.” However, she is not satisfied to end the discussion yet.\n",
            "The second dialogue, titled, “Philo and Sophia on the Universality of Love” postulates that love is the dominant principle of all life and describes how love operates in human beings’ lives.\n",
            "Sophia asks Philo to expound on his ideas of love's origin and universality. As the translation by F. Friedeberg-Seeley and Jean H. Barnes in The Philosophy of Love reads,\n",
            "\n",
            " God decides to set out its universality first. \n",
            " Love is common to all living things: in men and animals \n",
            " alike, it springs from sex, parenthood, benefits, affinity \n",
            " and association; in [humans] it may spring also from congruence \n",
            " of nature and from moral and intellectual virtues. Moreover, \n",
            " love extends to inanimate things. For love (with knowledge, \n",
            " which it presupposes) is found to be of three kinds: natural \n",
            " (in lifeless things), sensitive (in animals), and rational-voluntary \n",
            " (in [humans]). Philo explains how the elements are [a]ffected by \n",
            " love for their own place and by love based on the five motives common \n",
            " to men and animals; how first, matter, which underlies the elements, \n",
            " is determined by love of form; and how the nature of compounds is \n",
            " determined by the degree of love between their constituent elements, \n",
            " a low degree sufficing to constitute inanimate things and the highest \n",
            " degree permitting the marriage of body with soul. But love is not \n",
            " limited to the sublunar world. Heaven loves earth as a husband, and \n",
            " her nurslings as children. The analogy is completed by the identification \n",
            "\n",
            " of the functions of the planets with those of the seven organs. \n",
            "The third and most lengthy dialogue, “Philo and Sophia on the Origin of Love” is a discussion about God's love and how it encompasses all of existence, from the lowest creatures to the heavens and is the “cohesion of the universe.” A discussion of beauty and the soul follows, with an analysis of Plato's ideas. The third dialogue is considered the most important at the aesthetic level.\n",
            "In this dialogue, Philo and Sophia meet unexpectedly. After Philo apologizes for not recognizing Sophia because he was struck by her beauteous image, he begins to discuss a comparison between the soul and intellect. As the translation by F. Friedeberg-Seeley and Jean H. Barnes in The Philosophy of Love reads, \"The intellect is purely spiritual, whereas the soul is partly spiritual and partly corporeal, and is ever-moving to and fro between body and mind.\" \n",
            "Philo [later] defines the essence of love:\n",
            "\n",
            " love is the desire of something and its object is pleasure in a \n",
            " present or acquired good. Love and desire, moreover, are synonymous \n",
            " and are accompanied by privation, because their object is lacking \n",
            " either in the present or in the future. This is also true of divine\n",
            " love, since God, being subject to no privation in Himself, desires \n",
            " not His own perfection, but that which is lacking in His creatures. \n",
            " The desire of the beautiful is not sufficient as a definition of \n",
            " universal love, for goodness and beauty are not the same, and whereas \n",
            " every beautiful thing is good in essence or appearance, not every good \n",
            " thing is beautiful. Universal love depends upon universal goodness, \n",
            " human love upon the beautiful, which is a good with the complement of \n",
            " beauty. Beauty itself is grace, which brings pleasure to the mind which \n",
            "\n",
            " perceives it, and moves it to love.\n",
            "Philo then turns to Sophia's first question, and shows her that love must have been created and is subject to birth, because it presupposes both lover and beloved, from whom it takes its origin.\n",
            "The answer to the second question—when was love first born?—must depend on yet another—when was the world first created? The first love and procreative cause of the universe is that of God for Himself as eternal lover and beloved, and whenever the universe was first created, then love was first born.\n",
            "As to the birthplace of love, this must have been the angelic world, which is the most perfect of all created being and has, therefore, the most perfect knowledge of the divine beauty it lacks.\n",
            "In answer to the fourth question—who were the parents of love?—Philo tells Sophia of the allegorical meaning of the birth of Cupid, and that of the ancient and mythological figure, Androgynous, and of the creation of Adam and Eve and the fall of man. The universal father of all love is the beautiful, and the universal mother a knowledge of the beautiful together with privation. Beauty is the necessity a prior condition of all love, because it is upon the world. The supremely beautiful is God, the highest beauty is His intellect or wisdom, in the image of which the whole derives from the form that actuates their matter, and therefore all the forms or Ideas pre-exist in the eternal splendor. The end of all love is pleasure, and this is the same as the desire of the lover for union with the beloved, because pleasure consists in union with the pleasurable. The end of love of the universe is union with divine beauty, the final beatitude and highest perfection of all creation.\n",
            "Philo, however is careful to point out that his love has no end but torment and grief, because Sophia is unwilling to grant him his desire and makes no return of his love. She persists in her refusal to recognize any save the love of the intellect, and finding that argument cannot avail her against the subtleties of Philo's reasoning, reminds him of his promise to tell of the effects of love, for she would know further of the dangers into which he would lead her. And so the lovers part, and the tale of their promised meeting is as yet untold.\n",
            "Dialoghi d'amore was an important work in Spanish culture as it brought Renaissance ideals to Spain. Otis Green argues in his España y la tradición occidental that in Abravanel's work human love is spiritualized, placing it in connection with divine love, by posing the necessity of going beyond physical union to merge minds and souls.\n",
            "Miguel de Cervantes refers to the Dialoghi d'amore in the Prologue to his Don Quixote.\n",
            "\n",
            "\n",
            "== Notes ==\n",
            "\n",
            "\n",
            "== References ==\n",
            "Caramella, Santino, Ed. Dialoghi d'amore. By Leone Ebreo. Bari: Gius. Laterza & Figli, 1929.\n",
            "Leone Ebreo. Dialogues of Love. Trans. Damian Bacich and Rossella Pescatori. Ed. Rosella Pescatori. Toronto: University of Toronto Press, 2009.\n",
            "Leone Ebreo. The Philosophy of Love. Trans. F. Friedeberg-Seeley and Jean H. Barnes. London: The Soncino Press, 1937.\n",
            "Feldman, Seymour. Philosophy in a Time of Crisis: Don Isaac Abravanel: Defender of the Faith. New York: RoutledgeCurzon, 2003.\n",
            "Gebhardt, Carl, Ed. Hebræische Gedichte. By Leone Ebreo. London: Oxford University Press, 1929.\n",
            "Gilbhard, Thomas. Bibliografia degli studi su Leone Hebreo (Jehudah Abravanel), in: «Accademia. Revue de la Société Marsile Ficin», VI, 2004, p. 113-134\n",
            "Green, Otis. España y la tradición occidental. Vol. I. Madrid: Gredos, 1969.\n",
            "León Hebreo. Diálogos de amor. Trans. Garcilaso de la Vega, El Inca. México: Editorial Porrúa, 1985.\n",
            "Menéndez Pelayo, Marcelino. \"Introduction.\" Diálogos de amor. Trans. Garcilaso de la Vega, El Inca. México: Editorial Porrúa, 1985.\n",
            "Pina Martins, José V. de. Livros quinhentistas sobre o amor. Paris: Fundação Calouste Gulbenkian 1969.\n",
            "Roth, Cecil. Introduction. The Philosophy of Love (Dialoghi d’Amore). By Leone Ebreo. Trans. F. Friedeberg-Seeley and Jean H. Barnes. London: The Soncino Press, 1937.\n",
            "Sonne, Isiah. Intorno alla vita di Leone Ebreo. Florence: Civiltà Moderna, 1934.\n",
            "Soria Olmedo, Andrés. Los Dialoghi D’Amore de León Hebreo: Aspectos Literarios y Culturales. Granada: Universidad de Granada, 1984.\n",
            "Rothenberg, Naftali, Wisdom of Love: Man, Woman and God in Jewish Canonical Literature, Boston 2009: Academic Studies press, \"The Rebirth of the Androgyne: Jodah Abravanel Cites Plato and Moses\", pp. 44–53. Ibid. \"the Sage of Unconsummated Love: Joda Abravanel's Dialoghi D'Amore\", pp. 127–154\n",
            "\n",
            "\n",
            "== External links ==\n",
            "Hughes, Aaron. \"Judah Abrabanel\".  In Zalta, Edward N. (ed.). Stanford Encyclopedia of Philosophy.\n",
            "Jewish Encyclopedia Entry\n",
            "Columbia Encyclopedia Entry\n",
            "Dialogues of Love, 2009\n",
            "Dialoghi d'Amore: Dialogues of Love, a Renaissance best-seller\n"
          ],
          "name": "stdout"
        }
      ]
    },
    {
      "cell_type": "markdown",
      "metadata": {
        "id": "y2LAGk9n46KC",
        "colab_type": "text"
      },
      "source": [
        "# ***Language Analysis***"
      ]
    },
    {
      "cell_type": "code",
      "metadata": {
        "id": "cwU02BGMvYMX",
        "colab_type": "code",
        "colab": {}
      },
      "source": [
        "\n",
        "\"\"\"\n",
        "1.X cite(s|d) Y1, Y2, …, Yn as (an) influence(s)\n",
        "2. X was influenced by Y1, Y2, …, Yn\n",
        "3. Y has been cited as an influence by X1, X2, …, Xn\n",
        "4. Y influence on X1, X2, …, Xn …\n",
        "5. Y1, Y2, …, Yn influenced hi(m|s) …\n",
        "\"\"\"\n",
        "\n",
        "doc1 = nlp(\"Mark was influenced by Jhon\")\n",
        "doc2 = nlp(\"Jhon influenced Mark\")\n",
        "doc3 = nlp(\"Mark was an influence of Jhon and Albert\")\n",
        "doc4 = nlp(\"Jhon influenced him\")\n",
        "doc3 = nlp(\"Adler was also influenced by the philosophies of Immanuel Kant, Friedrich Nietzsche, Rudolf Virchow and the statesman Jan Smuts \")\n",
        "doc3 = nlp(\"He influenced notable figures in subsequent schools of psychotherapy such as Rollo May, Viktor Frankl, Abraham Maslow and Albert Ellis \")\n",
        "print(\"------\")\n",
        "print(\"1 Mark was influenced by Jhon\")\n",
        "displacy.render(doc1, style=\"dep\", jupyter=True)\n",
        "print(\"CHUNKS\")\n",
        "for chunk in doc1.noun_chunks:\n",
        "    print(chunk.text, chunk.root.text, chunk.root.dep_, \n",
        "            chunk.root.head.text)\n",
        "print(\"TREE\")\n",
        "for token in doc1:\n",
        "    print(token.text, token.dep_, token.head.text, token.head.pos_,\n",
        "            [child for child in token.children])\n",
        "    \n",
        "print(\"------\")\n",
        "print(\"2 Jhon influenced Mark\")\n",
        "displacy.render(doc2, style=\"dep\", jupyter=True)\n",
        "print(\"CHUNKS\")\n",
        "\n",
        "for chunk in doc2.noun_chunks:\n",
        "    print(chunk.text, chunk.root.text, chunk.root.dep_, \n",
        "            chunk.root.head.text)\n",
        "print(\"TREE\")\n",
        "for token in doc2:\n",
        "    print(token.text, token.dep_, token.head.text, token.head.pos_,\n",
        "            [child for child in token.children])\n",
        "    \n",
        "print(\"------\")\n",
        "print(\"3 Mark was an influence of Jhon and Albert\")\n",
        "displacy.render(doc3, style=\"dep\", jupyter=True)\n",
        "print(\"CHUNKS\")\n",
        "    \n",
        "for chunk in doc3.noun_chunks:\n",
        "    print(chunk.text, chunk.root.text, chunk.root.dep_, \n",
        "            chunk.root.head.text)\n",
        "print(\"TREE\")\n",
        "for token in doc3:\n",
        "    print(token.text, token.dep_, token.head.text, token.head.pos_,\n",
        "            [child for child in token.children])\n",
        "    \n",
        "print(\"------\")\n",
        "print(\"4 Jhon influenced him\")\n",
        "print(\"CHUNKS\")\n",
        "    \n",
        "for chunk in doc4.noun_chunks:\n",
        "    print(chunk.text, chunk.root.text, chunk.root.dep_, \n",
        "            chunk.root.head.text)\n",
        "print(\"TREE\")\n",
        "for token in doc4:\n",
        "    print(token.text, token.dep_, token.head.text, token.head.pos_,\n",
        "            [child for child in token.children])\n",
        "\n",
        "    \n",
        "#print(jsonlist[0][\"article\"])\n",
        "#doc = nlp(jsonlist[0][\"article\"])"
      ],
      "execution_count": 0,
      "outputs": []
    },
    {
      "cell_type": "markdown",
      "metadata": {
        "id": "8NU3jhlTPcgD",
        "colab_type": "text"
      },
      "source": [
        "# ***Text Preprocessing***"
      ]
    },
    {
      "cell_type": "code",
      "metadata": {
        "id": "_4C1w8OESdrO",
        "colab_type": "code",
        "colab": {}
      },
      "source": [
        "#HIM\n",
        "#divide in sentences the article\n",
        "\n",
        "#eliminate sentences that don't include influenc -e, -ed, -es, etc\n",
        "\n",
        "#pattern matching on patterns (see language analysis)\n",
        "\n",
        "#Entity recognition and recostruction\n",
        "\n",
        "#US\n",
        "\"mark influenced jhon. Today is friday\"\n",
        "#divide in sentences the article\n",
        "\"mark influenced jhon\"\n",
        "\"Today is friday\"\n",
        "#eliminate sentences that don't include influenc -e, -ed, -es, etc\n",
        "\"mark influenced jhon\"\n",
        "\n",
        "#pattern matching on patterns (using spacy dependencies?)\n",
        "[x = \"mark\", y = \"jhon\"]\n",
        "\n",
        "#Entity recognition and recostruction(here we have a proble, when he had Hendrix he could )\n"
      ],
      "execution_count": 0,
      "outputs": []
    },
    {
      "cell_type": "markdown",
      "metadata": {
        "id": "KW3Mf9UlSeKx",
        "colab_type": "text"
      },
      "source": [
        "# ***Processing***"
      ]
    },
    {
      "cell_type": "code",
      "metadata": {
        "id": "8rkKZ0aFSn-V",
        "colab_type": "code",
        "colab": {}
      },
      "source": [
        ""
      ],
      "execution_count": 0,
      "outputs": []
    }
  ]
}