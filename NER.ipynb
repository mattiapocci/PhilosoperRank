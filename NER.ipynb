{
  "nbformat": 4,
  "nbformat_minor": 0,
  "metadata": {
    "colab": {
      "name": "NER.ipynb",
      "provenance": [],
      "collapsed_sections": [],
      "include_colab_link": true
    },
    "kernelspec": {
      "name": "python3",
      "display_name": "Python 3"
    }
  },
  "cells": [
    {
      "cell_type": "markdown",
      "metadata": {
        "id": "view-in-github",
        "colab_type": "text"
      },
      "source": [
        "<a href=\"https://colab.research.google.com/github/mattiapocci/PhilosoperRank/blob/master/NER.ipynb\" target=\"_parent\"><img src=\"https://colab.research.google.com/assets/colab-badge.svg\" alt=\"Open In Colab\"/></a>"
      ]
    },
    {
      "cell_type": "markdown",
      "metadata": {
        "id": "W0EkabEj_ah5",
        "colab_type": "text"
      },
      "source": [
        "#***Imports and Drive Mount***"
      ]
    },
    {
      "cell_type": "code",
      "metadata": {
        "id": "dcg7xL1K7yyZ",
        "colab_type": "code",
        "outputId": "44974217-f23f-48ae-f795-f5accc0c9c8c",
        "colab": {
          "base_uri": "https://localhost:8080/",
          "height": 68
        }
      },
      "source": [
        "\n",
        "#!pip3 install -U spacy[cuda92]\n",
        "#!python3 -m spacy download en_core_web_lg\n",
        "#https://stackoverflow.com/questions/54334304/spacy-cant-find-model-en-core-web-sm-on-windows-10-and-python-3-5-3-anacon\n",
        "\n",
        "import sys\n",
        "import time\n",
        "import os\n",
        "import numpy as np\n",
        "import random\n",
        "import json\n",
        "import spacy\n",
        "from spacy import displacy\n",
        "import nltk\n",
        "import pprint\n",
        "from nltk.tokenize import word_tokenize\n",
        "\n",
        "nltk.download('punkt')\n",
        "\n",
        "nlp = spacy.load(\"en_core_web_sm\")\n",
        "spacy.prefer_gpu()\n",
        "\n",
        "from google.colab import drive\n",
        "\n",
        "drive.mount('/content/drive')\n"
      ],
      "execution_count": 110,
      "outputs": [
        {
          "output_type": "stream",
          "text": [
            "[nltk_data] Downloading package punkt to /root/nltk_data...\n",
            "[nltk_data]   Package punkt is already up-to-date!\n",
            "Drive already mounted at /content/drive; to attempt to forcibly remount, call drive.mount(\"/content/drive\", force_remount=True).\n"
          ],
          "name": "stdout"
        }
      ]
    },
    {
      "cell_type": "markdown",
      "metadata": {
        "id": "y2LAGk9n46KC",
        "colab_type": "text"
      },
      "source": [
        "# ***Language Analysis***"
      ]
    },
    {
      "cell_type": "code",
      "metadata": {
        "id": "cwU02BGMvYMX",
        "colab_type": "code",
        "outputId": "d6ae4679-5b50-4fcd-8c18-590e072f893d",
        "colab": {
          "base_uri": "https://localhost:8080/",
          "height": 350
        }
      },
      "source": [
        "\n",
        "\"\"\"\n",
        "1. X cite(s|d) Y1, Y2, …, Yn as (an) influence(s)\n",
        "2. X was influenced by Y1, Y2, …, Yn\n",
        "3. Y has been cited as an influence by X1, X2, …, Xn\n",
        "4. Y influence on X1, X2, …, Xn …\n",
        "5. Y1, Y2, …, Yn influenced hi(m|s) …\n",
        "\"\"\"\n",
        "\"\"\"\n",
        "doc1 = nlp(\"Mark was influenced by Jhon\")\n",
        "doc2 = nlp(\"Jhon influenced Mark\")\n",
        "doc3 = nlp(\"Mark was an influence of Jhon and Albert\")\n",
        "doc4 = nlp(\"Jhon influenced him\")\n",
        "doc5 = nlp(\"Adler was also influenced by the philosophies of Immanuel Kant, Friedrich Nietzsche, Rudolf Virchow and the statesman Jan Smuts \")\n",
        "doc6 = nlp(\"He is cited as an influence on John Milton\")\n",
        "\n",
        "\"\"\"\n",
        "print(process(\"Mark was influenced by Jhon\"))\n",
        "\n",
        "def process(phrase):\n",
        "    print(\"a\")\n",
        "    influenced = []\n",
        "    influencers = []\n",
        "    doc = nlp(phrase)\n",
        "    for token in doc:\n",
        "        if token.dep_ == \"nsubjpass\" and token.head.pos_ in [\"influenced\", \"influences\"] :\n",
        "            influenced.append(token.text)\n",
        "        if token.dep_ == \"nsubj\" and token.head.pos_ in [\"influenced\", \"influences\"]:\n",
        "            influencers.append(token.text)\n",
        "        if token.dep_ == \"pobj\":\n",
        "            flag = 0\n",
        "            while flag == 0:\n",
        "                if token.head.dep_ == \"pobj\" or token.head.dep_ == \"prep\" or token.head.dep_ ==\"agent\":\n",
        "                    token = token.head\n",
        "                    print(\"a\")\n",
        "                if token.head.pos_ in [\"influenced\", \"influences\"]:\n",
        "                    influenced.append(token.text)\n",
        "                    print(\"b\")\n",
        "                else:\n",
        "                    flag = 1\n",
        "    return influenced, influencers\n",
        "\n",
        "\n",
        "#print(jsonlist[0][\"article\"])\n",
        "#doc = nlp(jsonlist[0][\"article\"])"
      ],
      "execution_count": 124,
      "outputs": [
        {
          "output_type": "error",
          "ename": "KeyboardInterrupt",
          "evalue": "ignored",
          "traceback": [
            "\u001b[0;31m---------------------------------------------------------------------------\u001b[0m",
            "\u001b[0;31mKeyboardInterrupt\u001b[0m                         Traceback (most recent call last)",
            "\u001b[0;32m<ipython-input-124-21adf9279211>\u001b[0m in \u001b[0;36m<module>\u001b[0;34m()\u001b[0m\n\u001b[1;32m     16\u001b[0m \u001b[0;34m\u001b[0m\u001b[0m\n\u001b[1;32m     17\u001b[0m \"\"\"\n\u001b[0;32m---> 18\u001b[0;31m \u001b[0mprint\u001b[0m\u001b[0;34m(\u001b[0m\u001b[0mprocess\u001b[0m\u001b[0;34m(\u001b[0m\u001b[0;34m\"Mark was influenced by Jhon\"\u001b[0m\u001b[0;34m)\u001b[0m\u001b[0;34m)\u001b[0m\u001b[0;34m\u001b[0m\u001b[0;34m\u001b[0m\u001b[0m\n\u001b[0m\u001b[1;32m     19\u001b[0m \u001b[0;34m\u001b[0m\u001b[0m\n\u001b[1;32m     20\u001b[0m \u001b[0;32mdef\u001b[0m \u001b[0mprocess\u001b[0m\u001b[0;34m(\u001b[0m\u001b[0mphrase\u001b[0m\u001b[0;34m)\u001b[0m\u001b[0;34m:\u001b[0m\u001b[0;34m\u001b[0m\u001b[0;34m\u001b[0m\u001b[0m\n",
            "\u001b[0;32m<ipython-input-112-3344e9d38111>\u001b[0m in \u001b[0;36mprocess\u001b[0;34m(phrase)\u001b[0m\n\u001b[1;32m    100\u001b[0m         \u001b[0;32mif\u001b[0m \u001b[0mtoken\u001b[0m\u001b[0;34m.\u001b[0m\u001b[0mdep_\u001b[0m \u001b[0;34m==\u001b[0m \u001b[0;34m\"pobj\"\u001b[0m\u001b[0;34m:\u001b[0m\u001b[0;34m\u001b[0m\u001b[0;34m\u001b[0m\u001b[0m\n\u001b[1;32m    101\u001b[0m             \u001b[0;32mwhile\u001b[0m \u001b[0;32mTrue\u001b[0m\u001b[0;34m:\u001b[0m\u001b[0;34m\u001b[0m\u001b[0;34m\u001b[0m\u001b[0m\n\u001b[0;32m--> 102\u001b[0;31m                 \u001b[0;32mif\u001b[0m \u001b[0mtoken\u001b[0m\u001b[0;34m.\u001b[0m\u001b[0mhead\u001b[0m\u001b[0;34m.\u001b[0m\u001b[0mdep_\u001b[0m \u001b[0;34m==\u001b[0m \u001b[0;34m\"pobj\"\u001b[0m \u001b[0;32mor\u001b[0m \u001b[0mtoken\u001b[0m\u001b[0;34m.\u001b[0m\u001b[0mhead\u001b[0m\u001b[0;34m.\u001b[0m\u001b[0mdep_\u001b[0m \u001b[0;34m==\u001b[0m \u001b[0;34m\"prep\"\u001b[0m \u001b[0;32mor\u001b[0m \u001b[0mtoken\u001b[0m\u001b[0;34m.\u001b[0m\u001b[0mhead\u001b[0m\u001b[0;34m.\u001b[0m\u001b[0mdep_\u001b[0m \u001b[0;34m==\u001b[0m\u001b[0;34m\"agent\"\u001b[0m\u001b[0;34m:\u001b[0m\u001b[0;34m\u001b[0m\u001b[0;34m\u001b[0m\u001b[0m\n\u001b[0m\u001b[1;32m    103\u001b[0m                     \u001b[0mtoken\u001b[0m \u001b[0;34m=\u001b[0m \u001b[0mtoken\u001b[0m\u001b[0;34m.\u001b[0m\u001b[0mhead\u001b[0m\u001b[0;34m\u001b[0m\u001b[0;34m\u001b[0m\u001b[0m\n\u001b[1;32m    104\u001b[0m                 \u001b[0;32mif\u001b[0m \u001b[0mtoken\u001b[0m\u001b[0;34m.\u001b[0m\u001b[0mhead\u001b[0m\u001b[0;34m.\u001b[0m\u001b[0mpos_\u001b[0m \u001b[0;32min\u001b[0m \u001b[0;34m[\u001b[0m\u001b[0;34m\"influenced\"\u001b[0m\u001b[0;34m,\u001b[0m \u001b[0;34m\"influences\"\u001b[0m\u001b[0;34m]\u001b[0m\u001b[0;34m:\u001b[0m\u001b[0;34m\u001b[0m\u001b[0;34m\u001b[0m\u001b[0m\n",
            "\u001b[0;31mKeyboardInterrupt\u001b[0m: "
          ]
        }
      ]
    },
    {
      "cell_type": "markdown",
      "metadata": {
        "id": "LWFl--Pruu-j",
        "colab_type": "text"
      },
      "source": [
        "#***Import JSON articles***\n"
      ]
    },
    {
      "cell_type": "code",
      "metadata": {
        "id": "LDR8TdRiyuvn",
        "colab_type": "code",
        "colab": {}
      },
      "source": [
        "\"\"\"\n",
        "{\n",
        "    \"philosopher\": \"name\",\n",
        "    \"article\": \"plaintext_article\",\n",
        "    \"pageid\": \"id\",\n",
        "    \"table_influenced\": \n",
        "        [\n",
        "            {\n",
        "                \"0\": \"name_of_someone_philosopher_influenced_by\"\n",
        "            }\n",
        "        ]\n",
        "    \"table_influences\":\n",
        "        [\n",
        "            {\n",
        "                \"0\": \"name_of_someone_philosopher_influences\"\n",
        "            }\n",
        "        ]\n",
        "}\n",
        "\"\"\"\n",
        "#open the file\n",
        "with open('/content/drive/My Drive/folder/result_1.json') as f:\n",
        "  jsonlist = json.load(f)"
      ],
      "execution_count": 0,
      "outputs": []
    },
    {
      "cell_type": "markdown",
      "metadata": {
        "id": "8NU3jhlTPcgD",
        "colab_type": "text"
      },
      "source": [
        "# ***Text Preprocessing***"
      ]
    },
    {
      "cell_type": "code",
      "metadata": {
        "id": "_4C1w8OESdrO",
        "colab_type": "code",
        "outputId": "597ad466-64c8-4c2e-df7e-9a1ffd160cae",
        "colab": {
          "base_uri": "https://localhost:8080/",
          "height": 34
        }
      },
      "source": [
        "\"\"\"\n",
        "#HIM\n",
        "#divide in sentences the article\n",
        "\n",
        "#eliminate sentences that don't include influenc -e, -ed, -es, -ing etc\n",
        "\n",
        "#pattern matching on patterns (see language analysis)\n",
        "\n",
        "#Entity recognition and recostruction\n",
        "\n",
        "#US\n",
        "\"mark influenced jhon. Today is friday\"\n",
        "#divide in sentences the article\n",
        "\"mark influenced jhon\"\n",
        "\"Today is friday\"\n",
        "#eliminate sentences that don't include influenc -e, -ed, -es, etc\n",
        "\"mark influenced jhon\"\n",
        "\n",
        "#pattern matching on patterns (using spacy \n",
        "?)\n",
        "[x = \"mark\", y = \"jhon\"]\n",
        "\n",
        "#Entity recognition and recostruction(here we have a proble, when he had Hendrix he could )\n",
        "\"\"\"\n",
        "import time\n",
        "start = time.time()\n",
        "\n",
        "for elem in jsonlist:\n",
        "    #divide in sentences the article\n",
        "    sent_list = nltk.sent_tokenize(elem[\"article\"])\n",
        "    \n",
        "    sent_list = [word_tokenize(i) for i in sent_list]\n",
        "\n",
        "    influence_list = []\n",
        "    influence_declinations = [\"influence\", \"influenced\", \"influences\", \"influencing\"]\n",
        "\n",
        "    for word_list in sent_list:\n",
        "        temp = [x for x in word_list if x in influence_declinations]\n",
        "        if len(temp) != 0:\n",
        "            influence_list.append(' '.join(word for word in word_list))\n",
        "\n",
        "    new_list = []\n",
        "    for sent in influence_list:\n",
        "        new_list.append(sent)\n",
        "        #displacy.render(sent, style=\"dep\", jupyter=True)\n",
        "    elem[\"article\"] = new_list\n",
        "\n",
        "print(time.time() - start)"
      ],
      "execution_count": 0,
      "outputs": [
        {
          "output_type": "stream",
          "text": [
            "41.20190477371216\n"
          ],
          "name": "stdout"
        }
      ]
    },
    {
      "cell_type": "markdown",
      "metadata": {
        "id": "KW3Mf9UlSeKx",
        "colab_type": "text"
      },
      "source": [
        "# ***Processing Giuliano(Spacy Dependencies)***"
      ]
    },
    {
      "cell_type": "code",
      "metadata": {
        "id": "8rkKZ0aFSn-V",
        "colab_type": "code",
        "colab": {}
      },
      "source": [
        "\n",
        "\"\"\"\n",
        "Input cella:\n",
        "jsonlist = \n",
        "[\n",
        "    {\n",
        "        \"philosopher\" = \"philosopher_name\",\n",
        "        \"pageid\" = id,\n",
        "        \"article\" = \n",
        "        [\n",
        "            \"frase contenente influence\",\n",
        "\n",
        "            \"frase contenente influence\", etc\n",
        "        ]\n",
        "    }\n",
        "]\n",
        "\n",
        "Output cella:\n",
        "output =\n",
        "[\n",
        "    {\n",
        "        \"philosopher\" = \"philosopher_name\",\n",
        "        \"pageid\" = id,\n",
        "        \"article\" = \n",
        "        [\n",
        "            [\n",
        "                \"frase contenente influence\",\n",
        "                [\n",
        "                    list of influencers\n",
        "                ],\n",
        "                [\n",
        "                    list of influenced\n",
        "                ]\n",
        "        ]\n",
        "    }\n",
        "]\n",
        "\"\"\"\n",
        "\n",
        "\n",
        "def display_info(list_of_sentences):\n",
        "    print(\"------\")\n",
        "    for sent in list_of_sentences:\n",
        "        print(sent)\n",
        "        doc = nlp(sent)\n",
        "        displacy.render(doc, style=\"dep\", jupyter=True)\n",
        "        print(\"CHUNKS\")\n",
        "\n",
        "        for chunk in doc.noun_chunks:\n",
        "            print(chunk.text, chunk.root.text, chunk.root.dep_, \n",
        "                    chunk.root.head.text)\n",
        "        print(\"TREE\")\n",
        "        for token in doc:\n",
        "            print(token.text, token.dep_, token.head.text, token.head.pos_,\n",
        "                    [child for child in token.children])\n",
        "\"\"\"\n",
        "#some prints and infos\n",
        "\n",
        "#pprint.pprint(jsonlist)\n",
        "print(len(jsonlist))\n",
        "jsonlist_no_empty = [i for i in jsonlist if len(i[\"article\"]) != 0]\n",
        "print(len(jsonlist_no_empty))\n",
        "print([[i[\"philosopher\"], len(i[\"article\"]), i[\"article\"]] for i in jsonlist_no_empty if i[\"philosopher\"] == \"Socrates\"])\n",
        "\"\"\"\n",
        "\"\"\"\n",
        "import re\n",
        "print(jsonlist_no_empty[20][\"article\"][0])\n",
        "tokens = [i for i in jsonlist_no_empty[20][\"article\"][0] if i.isupper() ]\n",
        "print(tokens)\n",
        "\"\"\"\n",
        "\n",
        "for phil in jsonlist_no_empty:\n",
        "    display_info(phil[\"article\"])\n",
        "\n",
        "\n"
      ],
      "execution_count": 0,
      "outputs": []
    },
    {
      "cell_type": "markdown",
      "metadata": {
        "id": "j132TVHEKK3Q",
        "colab_type": "text"
      },
      "source": [
        "# ***Processing Mattia(Regex)***"
      ]
    },
    {
      "cell_type": "code",
      "metadata": {
        "id": "QrBeoeMOKPs_",
        "colab_type": "code",
        "colab": {}
      },
      "source": [
        "\n",
        "\"\"\"\n",
        "Input cella:\n",
        "jsonlist = \n",
        "[\n",
        "    {\n",
        "        \"philosopher\" = \"philosopher_name\",\n",
        "        \"pageid\" = id,\n",
        "        \"article\" = \n",
        "        [\n",
        "            \"frase contenente influence\",\n",
        "\n",
        "            \"frase contenente influence\", etc\n",
        "        ]\n",
        "    }\n",
        "]\n",
        "\n",
        "Output cella:\n",
        "output =\n",
        "[\n",
        "    {\n",
        "        \"philosopher\" = \"philosopher_name\",\n",
        "        \"pageid\" = id,\n",
        "        \"article\" = \n",
        "        [\n",
        "            [\n",
        "                \"frase contenente influence\",\n",
        "                [\n",
        "                    list of influencers\n",
        "                ],\n",
        "                [\n",
        "                    list of influenced\n",
        "                ]\n",
        "        ]\n",
        "    }\n",
        "]\n",
        "\"\"\"\n",
        "\n",
        "\"\"\"\n",
        "#some prints and infos\n",
        "\n",
        "#pprint.pprint(jsonlist)\n",
        "print(len(jsonlist))\n",
        "jsonlist_no_empty = [i for i in jsonlist if len(i[\"article\"]) != 0]\n",
        "print(len(jsonlist_no_empty))\n",
        "print([[i[\"philosopher\"], len(i[\"article\"]), i[\"article\"]] for i in jsonlist_no_empty if i[\"philosopher\"] == \"Socrates\"])\n",
        "\"\"\""
      ],
      "execution_count": 0,
      "outputs": []
    },
    {
      "cell_type": "markdown",
      "metadata": {
        "id": "fotsckLtKQHb",
        "colab_type": "text"
      },
      "source": [
        "# ***Processing Luigi(Regex)***"
      ]
    },
    {
      "cell_type": "code",
      "metadata": {
        "id": "X5f1PxUxKTto",
        "colab_type": "code",
        "colab": {}
      },
      "source": [
        "\n",
        "\"\"\"\n",
        "Input cella:\n",
        "jsonlist = \n",
        "[\n",
        "    {\n",
        "        \"philosopher\" = \"philosopher_name\",\n",
        "        \"pageid\" = id,\n",
        "        \"article\" = \n",
        "        [\n",
        "            \"frase contenente influence\",\n",
        "\n",
        "            \"frase contenente influence\", etc\n",
        "        ]\n",
        "    }\n",
        "]\n",
        "\n",
        "Output cella:\n",
        "output =\n",
        "[\n",
        "    {\n",
        "        \"philosopher\" = \"philosopher_name\",\n",
        "        \"pageid\" = id,\n",
        "        \"article\" = \n",
        "        [\n",
        "            [\n",
        "                \"frase contenente influence\",\n",
        "                [\n",
        "                    list of influencers\n",
        "                ],\n",
        "                [\n",
        "                    list of influenced\n",
        "                ]\n",
        "        ]\n",
        "    }\n",
        "]\n",
        "\"\"\"\n",
        "\n",
        "\"\"\"\n",
        "#some prints and infos\n",
        "\n",
        "#pprint.pprint(jsonlist)\n",
        "print(len(jsonlist))\n",
        "jsonlist_no_empty = [i for i in jsonlist if len(i[\"article\"]) != 0]\n",
        "print(len(jsonlist_no_empty))\n",
        "print([[i[\"philosopher\"], len(i[\"article\"]), i[\"article\"]] for i in jsonlist_no_empty if i[\"philosopher\"] == \"Socrates\"])\n",
        "\"\"\""
      ],
      "execution_count": 0,
      "outputs": []
    }
  ]
}