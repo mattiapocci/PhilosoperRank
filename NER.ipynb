{
  "nbformat": 4,
  "nbformat_minor": 0,
  "metadata": {
    "colab": {
      "name": "NER.ipynb",
      "provenance": [],
      "collapsed_sections": [],
      "include_colab_link": true
    },
    "kernelspec": {
      "name": "python3",
      "display_name": "Python 3"
    }
  },
  "cells": [
    {
      "cell_type": "markdown",
      "metadata": {
        "id": "view-in-github",
        "colab_type": "text"
      },
      "source": [
        "<a href=\"https://colab.research.google.com/github/mattiapocci/PhilosoperRank/blob/master/NER.ipynb\" target=\"_parent\"><img src=\"https://colab.research.google.com/assets/colab-badge.svg\" alt=\"Open In Colab\"/></a>"
      ]
    },
    {
      "cell_type": "markdown",
      "metadata": {
        "id": "W0EkabEj_ah5",
        "colab_type": "text"
      },
      "source": [
        "#***Imports and Drive Mount***"
      ]
    },
    {
      "cell_type": "code",
      "metadata": {
        "id": "dcg7xL1K7yyZ",
        "colab_type": "code",
        "outputId": "4f6ecb4a-23d1-43c8-e4b1-3127907d24eb",
        "colab": {
          "base_uri": "https://localhost:8080/",
          "height": 34
        }
      },
      "source": [
        "\n",
        "#!pip3 install -U spacy[cuda92]\n",
        "#!python3 -m spacy download en_core_web_lg\n",
        "\n",
        "import sys\n",
        "import time\n",
        "import os\n",
        "import numpy as np\n",
        "import random\n",
        "import json\n",
        "import spacy\n",
        "from spacy import displacy\n",
        "\n",
        "nlp = spacy.load(\"en_core_web_sm\")\n",
        "spacy.prefer_gpu()\n",
        "\n",
        "from google.colab import drive\n",
        "\n",
        "drive.mount('/content/drive')\n"
      ],
      "execution_count": 10,
      "outputs": [
        {
          "output_type": "stream",
          "text": [
            "Drive already mounted at /content/drive; to attempt to forcibly remount, call drive.mount(\"/content/drive\", force_remount=True).\n"
          ],
          "name": "stdout"
        }
      ]
    },
    {
      "cell_type": "markdown",
      "metadata": {
        "id": "LWFl--Pruu-j",
        "colab_type": "text"
      },
      "source": [
        "#***Import JSON articles***\n"
      ]
    },
    {
      "cell_type": "markdown",
      "metadata": {
        "id": "v0rdQEvwyxqa",
        "colab_type": "text"
      },
      "source": [
        "import Temporary jsonlist creation"
      ]
    },
    {
      "cell_type": "code",
      "metadata": {
        "id": "LDR8TdRiyuvn",
        "colab_type": "code",
        "colab": {}
      },
      "source": [
        "#open the file\n",
        "with open('/content/drive/My Drive/folder/result.json') as f:\n",
        "  jsonlist = json.load(f)\n"
      ],
      "execution_count": 0,
      "outputs": []
    },
    {
      "cell_type": "markdown",
      "metadata": {
        "id": "y2LAGk9n46KC",
        "colab_type": "text"
      },
      "source": [
        ""
      ]
    },
    {
      "cell_type": "code",
      "metadata": {
        "id": "cwU02BGMvYMX",
        "colab_type": "code",
        "outputId": "2eebba01-e0b2-4a66-ad10-01b4b19baccc",
        "colab": {
          "base_uri": "https://localhost:8080/",
          "height": 1000
        }
      },
      "source": [
        "\"\"\"\n",
        "\n",
        "jsonlist element structure\n",
        "\n",
        "{\n",
        "    \"pageid\": id,\n",
        "    \"philosopher\": \"name\",\n",
        "    \"article\": \"plaintext_article\"\n",
        "}\n",
        "\n",
        "1.X cite(s|d) Y1, Y2, …, Yn as (an) influence(s)\n",
        "2. X was influenced by Y1, Y2, …, Yn\n",
        "3. Y has been cited as an influence by X1, X2, …, Xn\n",
        "4. Y influence on X1, X2, …, Xn …\n",
        "5. Y1, Y2, …, Yn influenced hi(m|s) …\n",
        "\"\"\"\n",
        "\n",
        "doc1 = nlp(\"Mark was influenced by Jhon\")\n",
        "doc2 = nlp(\"Jhon influenced Mark\")\n",
        "doc3 = nlp(\"Mark was an influence of Jhon and Albert\")\n",
        "doc4 = nlp(\"Jhon influenced him\")\n",
        "print(\"------\")\n",
        "print(\"1 Mark was influenced by Jhon\")\n",
        "displacy.render(doc1, style=\"dep\", jupyter=True)\n",
        "print(\"CHUNKS\")\n",
        "for chunk in doc1.noun_chunks:\n",
        "    print(chunk.text, chunk.root.text, chunk.root.dep_, \n",
        "            chunk.root.head.text)\n",
        "print(\"TREE\")\n",
        "for token in doc1:\n",
        "    print(token.text, token.dep_, token.head.text, token.head.pos_,\n",
        "            [child for child in token.children])\n",
        "    \n",
        "print(\"------\")\n",
        "print(\"2 Jhon influenced Mark\")\n",
        "print(\"CHUNKS\")\n",
        "\n",
        "for chunk in doc2.noun_chunks:\n",
        "    print(chunk.text, chunk.root.text, chunk.root.dep_, \n",
        "            chunk.root.head.text)\n",
        "print(\"TREE\")\n",
        "for token in doc2:\n",
        "    print(token.text, token.dep_, token.head.text, token.head.pos_,\n",
        "            [child for child in token.children])\n",
        "    \n",
        "print(\"------\")\n",
        "print(\"3 Mark was an influence of Jhon and Albert\")\n",
        "print(\"CHUNKS\")\n",
        "    \n",
        "for chunk in doc3.noun_chunks:\n",
        "    print(chunk.text, chunk.root.text, chunk.root.dep_, \n",
        "            chunk.root.head.text)\n",
        "print(\"TREE\")\n",
        "for token in doc3:\n",
        "    print(token.text, token.dep_, token.head.text, token.head.pos_,\n",
        "            [child for child in token.children])\n",
        "    \n",
        "print(\"------\")\n",
        "print(\"4 Jhon influenced him\")\n",
        "print(\"CHUNKS\")\n",
        "    \n",
        "for chunk in doc4.noun_chunks:\n",
        "    print(chunk.text, chunk.root.text, chunk.root.dep_, \n",
        "            chunk.root.head.text)\n",
        "print(\"TREE\")\n",
        "for token in doc4:\n",
        "    print(token.text, token.dep_, token.head.text, token.head.pos_,\n",
        "            [child for child in token.children])\n",
        "\n",
        "    \n",
        "#print(jsonlist[0][\"article\"])\n",
        "#doc = nlp(jsonlist[0][\"article\"])"
      ],
      "execution_count": 15,
      "outputs": [
        {
          "output_type": "stream",
          "text": [
            "------\n",
            "1 Mark was influenced by Jhon\n"
          ],
          "name": "stdout"
        },
        {
          "output_type": "display_data",
          "data": {
            "text/html": [
              "<span class=\"tex2jax_ignore\"><svg xmlns=\"http://www.w3.org/2000/svg\" xmlns:xlink=\"http://www.w3.org/1999/xlink\" xml:lang=\"en\" id=\"7cd5808b76e445ecafaccab09f17d68d-0\" class=\"displacy\" width=\"925\" height=\"312.0\" direction=\"ltr\" style=\"max-width: none; height: 312.0px; color: #000000; background: #ffffff; font-family: Arial; direction: ltr\">\n",
              "<text class=\"displacy-token\" fill=\"currentColor\" text-anchor=\"middle\" y=\"222.0\">\n",
              "    <tspan class=\"displacy-word\" fill=\"currentColor\" x=\"50\">Mark</tspan>\n",
              "    <tspan class=\"displacy-tag\" dy=\"2em\" fill=\"currentColor\" x=\"50\">PROPN</tspan>\n",
              "</text>\n",
              "\n",
              "<text class=\"displacy-token\" fill=\"currentColor\" text-anchor=\"middle\" y=\"222.0\">\n",
              "    <tspan class=\"displacy-word\" fill=\"currentColor\" x=\"225\">was</tspan>\n",
              "    <tspan class=\"displacy-tag\" dy=\"2em\" fill=\"currentColor\" x=\"225\">AUX</tspan>\n",
              "</text>\n",
              "\n",
              "<text class=\"displacy-token\" fill=\"currentColor\" text-anchor=\"middle\" y=\"222.0\">\n",
              "    <tspan class=\"displacy-word\" fill=\"currentColor\" x=\"400\">influenced</tspan>\n",
              "    <tspan class=\"displacy-tag\" dy=\"2em\" fill=\"currentColor\" x=\"400\">VERB</tspan>\n",
              "</text>\n",
              "\n",
              "<text class=\"displacy-token\" fill=\"currentColor\" text-anchor=\"middle\" y=\"222.0\">\n",
              "    <tspan class=\"displacy-word\" fill=\"currentColor\" x=\"575\">by</tspan>\n",
              "    <tspan class=\"displacy-tag\" dy=\"2em\" fill=\"currentColor\" x=\"575\">ADP</tspan>\n",
              "</text>\n",
              "\n",
              "<text class=\"displacy-token\" fill=\"currentColor\" text-anchor=\"middle\" y=\"222.0\">\n",
              "    <tspan class=\"displacy-word\" fill=\"currentColor\" x=\"750\">Jhon</tspan>\n",
              "    <tspan class=\"displacy-tag\" dy=\"2em\" fill=\"currentColor\" x=\"750\">PROPN</tspan>\n",
              "</text>\n",
              "\n",
              "<g class=\"displacy-arrow\">\n",
              "    <path class=\"displacy-arc\" id=\"arrow-7cd5808b76e445ecafaccab09f17d68d-0-0\" stroke-width=\"2px\" d=\"M70,177.0 C70,2.0 400.0,2.0 400.0,177.0\" fill=\"none\" stroke=\"currentColor\"/>\n",
              "    <text dy=\"1.25em\" style=\"font-size: 0.8em; letter-spacing: 1px\">\n",
              "        <textPath xlink:href=\"#arrow-7cd5808b76e445ecafaccab09f17d68d-0-0\" class=\"displacy-label\" startOffset=\"50%\" side=\"left\" fill=\"currentColor\" text-anchor=\"middle\">nsubjpass</textPath>\n",
              "    </text>\n",
              "    <path class=\"displacy-arrowhead\" d=\"M70,179.0 L62,167.0 78,167.0\" fill=\"currentColor\"/>\n",
              "</g>\n",
              "\n",
              "<g class=\"displacy-arrow\">\n",
              "    <path class=\"displacy-arc\" id=\"arrow-7cd5808b76e445ecafaccab09f17d68d-0-1\" stroke-width=\"2px\" d=\"M245,177.0 C245,89.5 395.0,89.5 395.0,177.0\" fill=\"none\" stroke=\"currentColor\"/>\n",
              "    <text dy=\"1.25em\" style=\"font-size: 0.8em; letter-spacing: 1px\">\n",
              "        <textPath xlink:href=\"#arrow-7cd5808b76e445ecafaccab09f17d68d-0-1\" class=\"displacy-label\" startOffset=\"50%\" side=\"left\" fill=\"currentColor\" text-anchor=\"middle\">auxpass</textPath>\n",
              "    </text>\n",
              "    <path class=\"displacy-arrowhead\" d=\"M245,179.0 L237,167.0 253,167.0\" fill=\"currentColor\"/>\n",
              "</g>\n",
              "\n",
              "<g class=\"displacy-arrow\">\n",
              "    <path class=\"displacy-arc\" id=\"arrow-7cd5808b76e445ecafaccab09f17d68d-0-2\" stroke-width=\"2px\" d=\"M420,177.0 C420,89.5 570.0,89.5 570.0,177.0\" fill=\"none\" stroke=\"currentColor\"/>\n",
              "    <text dy=\"1.25em\" style=\"font-size: 0.8em; letter-spacing: 1px\">\n",
              "        <textPath xlink:href=\"#arrow-7cd5808b76e445ecafaccab09f17d68d-0-2\" class=\"displacy-label\" startOffset=\"50%\" side=\"left\" fill=\"currentColor\" text-anchor=\"middle\">agent</textPath>\n",
              "    </text>\n",
              "    <path class=\"displacy-arrowhead\" d=\"M570.0,179.0 L578.0,167.0 562.0,167.0\" fill=\"currentColor\"/>\n",
              "</g>\n",
              "\n",
              "<g class=\"displacy-arrow\">\n",
              "    <path class=\"displacy-arc\" id=\"arrow-7cd5808b76e445ecafaccab09f17d68d-0-3\" stroke-width=\"2px\" d=\"M595,177.0 C595,89.5 745.0,89.5 745.0,177.0\" fill=\"none\" stroke=\"currentColor\"/>\n",
              "    <text dy=\"1.25em\" style=\"font-size: 0.8em; letter-spacing: 1px\">\n",
              "        <textPath xlink:href=\"#arrow-7cd5808b76e445ecafaccab09f17d68d-0-3\" class=\"displacy-label\" startOffset=\"50%\" side=\"left\" fill=\"currentColor\" text-anchor=\"middle\">pobj</textPath>\n",
              "    </text>\n",
              "    <path class=\"displacy-arrowhead\" d=\"M745.0,179.0 L753.0,167.0 737.0,167.0\" fill=\"currentColor\"/>\n",
              "</g>\n",
              "</svg></span>"
            ],
            "text/plain": [
              "<IPython.core.display.HTML object>"
            ]
          },
          "metadata": {
            "tags": []
          }
        },
        {
          "output_type": "stream",
          "text": [
            "CHUNKS\n",
            "Mark Mark nsubjpass influenced\n",
            "Jhon Jhon pobj by\n",
            "TREE\n",
            "Mark nsubjpass influenced VERB []\n",
            "was auxpass influenced VERB []\n",
            "influenced ROOT influenced VERB [Mark, was, by]\n",
            "by agent influenced VERB [Jhon]\n",
            "Jhon pobj by ADP []\n",
            "------\n",
            "2 Jhon influenced Mark\n",
            "CHUNKS\n",
            "Jhon Jhon nsubj influenced\n",
            "Mark Mark dobj influenced\n",
            "TREE\n",
            "Jhon nsubj influenced VERB []\n",
            "influenced ROOT influenced VERB [Jhon, Mark]\n",
            "Mark dobj influenced VERB []\n",
            "------\n",
            "3 Mark was an influence of Jhon and Albert\n",
            "CHUNKS\n",
            "Mark Mark nsubj was\n",
            "an influence influence attr was\n",
            "Jhon Jhon pobj of\n",
            "Albert Albert conj Jhon\n",
            "TREE\n",
            "Mark nsubj was AUX []\n",
            "was ROOT was AUX [Mark, influence]\n",
            "an det influence NOUN []\n",
            "influence attr was AUX [an, of]\n",
            "of prep influence NOUN [Jhon]\n",
            "Jhon pobj of ADP [and, Albert]\n",
            "and cc Jhon PROPN []\n",
            "Albert conj Jhon PROPN []\n",
            "------\n",
            "4 Jhon influenced him\n",
            "CHUNKS\n",
            "Jhon Jhon nsubj influenced\n",
            "him him dobj influenced\n",
            "TREE\n",
            "Jhon nsubj influenced VERB []\n",
            "influenced ROOT influenced VERB [Jhon, him]\n",
            "him dobj influenced VERB []\n"
          ],
          "name": "stdout"
        }
      ]
    }
  ]
}