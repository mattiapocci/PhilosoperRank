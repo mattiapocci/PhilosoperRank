{
  "nbformat": 4,
  "nbformat_minor": 0,
  "metadata": {
    "colab": {
      "name": "scrapingWikiDumps.ipynb",
      "provenance": [],
      "collapsed_sections": [],
      "include_colab_link": true
    },
    "kernelspec": {
      "name": "python3",
      "display_name": "Python 3"
    }
  },
  "cells": [
    {
      "cell_type": "markdown",
      "metadata": {
        "id": "view-in-github",
        "colab_type": "text"
      },
      "source": [
        "<a href=\"https://colab.research.google.com/github/mattiapocci/PhilosoperRank/blob/master/scrapingWikiDumps.ipynb\" target=\"_parent\"><img src=\"https://colab.research.google.com/assets/colab-badge.svg\" alt=\"Open In Colab\"/></a>"
      ]
    },
    {
      "cell_type": "code",
      "metadata": {
        "id": "Qzk8gP9t-sU3",
        "colab_type": "code",
        "colab": {}
      },
      "source": [
        "from google.colab import drive\n",
        "\n",
        "drive.mount('/content/drive')"
      ],
      "execution_count": 0,
      "outputs": []
    },
    {
      "cell_type": "code",
      "metadata": {
        "id": "1nwKVtmI_YQs",
        "colab_type": "code",
        "colab": {}
      },
      "source": [
        "!wget  -P \"/content/drive/My Drive/Wiki_dump/\" \"https://dumps.wikimedia.org/enwiki/20200120/enwiki-20200120-pages-articles-multistream.xml.bz2\""
      ],
      "execution_count": 0,
      "outputs": []
    },
    {
      "cell_type": "code",
      "metadata": {
        "id": "B8fN4WnmPcZW",
        "colab_type": "code",
        "colab": {}
      },
      "source": [
        "!ls /content/drive/My\\ Drive/Wiki_dump/"
      ],
      "execution_count": 0,
      "outputs": []
    },
    {
      "cell_type": "code",
      "metadata": {
        "id": "G6Ul1mbbukNF",
        "colab_type": "code",
        "colab": {}
      },
      "source": [
        "!bunzip2 -d -k -s /content/drive/My\\ Drive/Wiki_dump/enwiki-20200120-pages-articles-multistream.xml.bz2"
      ],
      "execution_count": 0,
      "outputs": []
    },
    {
      "cell_type": "code",
      "metadata": {
        "id": "jSeuNCsgY64U",
        "colab_type": "code",
        "colab": {}
      },
      "source": [
        "!python3 WikiExtractor.py \"enwiki-20200120-pages-articles-multistream.xml\"  --json --processes 2"
      ],
      "execution_count": 0,
      "outputs": []
    },
    {
      "cell_type": "code",
      "metadata": {
        "id": "a5KljeSoo7M8",
        "colab_type": "code",
        "colab": {}
      },
      "source": [
        "import os\n",
        "import json\n",
        "\n",
        "\n",
        "def create_valid_json(filename):\n",
        "    with open(filename, 'r+') as f:\n",
        "        data = f.read().replace('}', '},')\n",
        "        data = data[:-2]\n",
        "        f.seek(0, 0)\n",
        "        f.write('['.rstrip('\\r\\n') + '\\n' + data)\n",
        "        \n",
        "    with open(filename, 'a') as f:\n",
        "        f.write(\"]\")\n",
        "\n",
        "\n",
        "def find_matches(filename,word,phil_list):\n",
        "    #phil_list = []\n",
        "    with open(filename, 'r', encoding='utf-8') as file:\n",
        "        try:\n",
        "            data = json.loads(file.read())\n",
        "            for article in data:\n",
        "                if word in article['text']:\n",
        "                    phil_list.append(article)\n",
        "            return phil_list\n",
        "        except:\n",
        "            print(\"Error with: \", filename)\n",
        "\n",
        "\n",
        "def write_json(data, name):\n",
        "    with open('/content/drive/My Drive/Wiki_dump/dump_phil.json', 'w') as outfile:\n",
        "        json.dump(data, outfile)\n",
        "\n",
        "def parse_data(rootdir=\"/home/luigi/Downloads/wir/wikiextractor-master/text/\"):\n",
        "    lst = []\n",
        "    for subdir, dirs, files in os.walk(rootdir):\n",
        "        for file in files:\n",
        "            filename_fullpath = os.path.join(subdir, file)\n",
        "            create_valid_json(filename_fullpath)\n",
        "            lst = find_matches(filename_fullpath,\"philosopher\",lst)\n",
        "    print(lst)\n",
        "    write_json(lst,file)\n",
        "\n",
        "parse_data(\"/content/drive/My Drive/Wiki_dump/text/\")"
      ],
      "execution_count": 0,
      "outputs": []
    }
  ]
}